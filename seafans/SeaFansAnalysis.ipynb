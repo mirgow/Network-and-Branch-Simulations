{
  "nbformat": 4,
  "nbformat_minor": 0,
  "metadata": {
    "colab": {
      "provenance": []
    },
    "kernelspec": {
      "name": "python3",
      "display_name": "Python 3"
    },
    "language_info": {
      "name": "python"
    }
  },
  "cells": [
    {
      "cell_type": "markdown",
      "source": [
        "Notebook for analyzing the LAMMPS output for the sea fans. Requires the output of the equilibration simulation (.xyz or .lammpstrj file) and a .lammpstrj and MSD file from the final LAMMPS simulation (alternatively, only the .lammpstrj file can be read in and MSD calculated by hand).   \n",
        "\n",
        "By: Ariana Vlad"
      ],
      "metadata": {
        "id": "MPZVspEdCNu6"
      }
    },
    {
      "cell_type": "markdown",
      "source": [
        "# Imports"
      ],
      "metadata": {
        "id": "KKmt18KqOUC3"
      }
    },
    {
      "cell_type": "code",
      "source": [
        "import csv\n",
        "import pandas as pd\n",
        "import numpy as np\n",
        "import math\n",
        "import matplotlib.pyplot as plt\n",
        "from colour import Color\n",
        "import sys\n",
        "import os\n",
        "import random"
      ],
      "metadata": {
        "id": "BKNVpJuHOVog"
      },
      "execution_count": null,
      "outputs": []
    },
    {
      "cell_type": "markdown",
      "source": [
        "# Create LAMMPS Input Files From Raw Data"
      ],
      "metadata": {
        "id": "KyDtlHN9ONpG"
      }
    },
    {
      "cell_type": "markdown",
      "source": [
        "## Read the raw data"
      ],
      "metadata": {
        "id": "Jkf5ayQmYp2V"
      }
    },
    {
      "cell_type": "code",
      "execution_count": null,
      "metadata": {
        "id": "9Wwrorw3Xjee"
      },
      "outputs": [],
      "source": [
        "data=pd.read_csv('tree_skeletonized.csv')\n",
        "#data=pd.read_csv('network_skeletonized.csv')\n",
        "\n",
        "x=data.iloc[1:len(data),0]\n",
        "y=data.iloc[1:len(data),2]"
      ]
    },
    {
      "cell_type": "markdown",
      "source": [
        "## Create a LAMMPS input file for equilibration"
      ],
      "metadata": {
        "id": "QptlVS4gYtei"
      }
    },
    {
      "cell_type": "code",
      "source": [
        "#create a contact matrix to hold the bonds and angles\n",
        "#the matrix's ij entry is 1 if the ith and jth atom are bonded, and 0 otherwise\n",
        "\n",
        "r = 3 #depends on the raw data, usually overestimating is better to be sure all segments are connected\n",
        "\n",
        "contact_matrix=np.zeros((len(x), len(x)), dtype=int)\n",
        "\n",
        "for i in range(len(x)):\n",
        "    for j in range(len(x)):\n",
        "        if math.sqrt((float(y.iloc[i])-float(y.iloc[j]))**2+(float(x.iloc[i])-float(x.iloc[j]))**2)<r:\n",
        "            contact_matrix[i][j]=1\n",
        "\n",
        "\n",
        "#calculate the total number of bonds and angles\n",
        "\n",
        "bonds=0\n",
        "\n",
        "for i in range(len(x)):\n",
        "    for j in range(i):\n",
        "        if contact_matrix[i][j]==1:\n",
        "            bonds+=1\n",
        "\n",
        "angles=0\n",
        "\n",
        "for i in range(len(x)):\n",
        "    for j in range(len(x)):\n",
        "        if contact_matrix[i][j]==1 and j!=i:\n",
        "            for k in range(i):\n",
        "                if contact_matrix[j][k]==1 and j!=k:\n",
        "                    angles+=1"
      ],
      "metadata": {
        "id": "zg590qikaENh"
      },
      "execution_count": null,
      "outputs": []
    },
    {
      "cell_type": "code",
      "source": [
        "with open('tree_equilibration.txt', 'w') as f:\n",
        "  sys.stdout=f\n",
        "  f.write('LAMMPS data file for tree - equilibration \\n \\n')\n",
        "  f.write(len(x), ' atoms \\n')\n",
        "  f.write(bonds, ' bonds \\n')\n",
        "  f.write(angles, ' angles \\n')\n",
        "  f.write('\\n 1 atom types \\n 1 bond types \\n 1 angle types \\n \\n -100 100 xlo xhi \\n - 100 100 ylo yhi \\n -100 100 zlo zhi \\n \\n Masses \\n 1 1 \\n \\n')\n",
        "  f.write('Atoms \\n \\n')\n",
        "\n",
        "  for i in range(len(x)):\n",
        "    f.write(i+1, ' ', 1, ' ', 1, ' ', float(x.iloc[i]), ' ', float(y.iloc[i]), ' ', 0)\n",
        "\n",
        "  f.write('\\n \\n Bonds \\n \\n ')\n",
        "\n",
        "  count=0\n",
        "  for i in range(len(x)):\n",
        "    for j in range(i):\n",
        "      if contact_matrix[i][j]==1:\n",
        "        count+=1\n",
        "          f.write(count, ' ', 1, ' ', i+1, ' ',   j+1)\n",
        "\n",
        "  f.write('\\n \\n Angles \\n \\n ')\n",
        "\n",
        "  count=0\n",
        "  for i in range(len(x)):\n",
        "    for j in range(len(x)):\n",
        "      if contact_matrix[i][j]==1 and j!=i:\n",
        "        for k in range(i):\n",
        "          if contact_matrix[j][k]==1 and j!=k:\n",
        "            count+=1\n",
        "              f.write(count, ' ', 1, ' ', i+1, ' ',   j+1, ' ', k+1)"
      ],
      "metadata": {
        "id": "_VFqYMAuY5cw"
      },
      "execution_count": null,
      "outputs": []
    },
    {
      "cell_type": "markdown",
      "source": [
        "## Check Equilibration"
      ],
      "metadata": {
        "id": "7XqfEihGtiCH"
      }
    },
    {
      "cell_type": "code",
      "source": [
        "#open output of equilibration\n",
        "\n",
        "with open(\"tree_equilibration.xyz\") as file:\n",
        "\tlines=[]\n",
        "\tfor line in file:\n",
        "\t\tlines.append(line)\n",
        "\n",
        "x_eq=[]\n",
        "y_eq=[]\n",
        "z_eq=[]\n",
        "\n",
        "for i in range(len(lines)):\n",
        "    if lines[i]=='Atoms. Timestep: 100000\\n':\n",
        "        for j in range(len(x)):\n",
        "          x_eq.append(float(lines[i+j+1].split(' ')[1]))\n",
        "          y_eq.append(float(lines[i+j+1].split(' ')[2]))\n",
        "          z_eq.append(float(lines[i+j+1].split(' ')[3]))\n",
        "\n",
        "#plot the histogram of the bonds length\n",
        "\n",
        "d=[]\n",
        "\n",
        "for i in range(len(x_eq)):\n",
        "\tfor j in range(i):\n",
        "\t\tif contact_matrix[i][j]==1:\n",
        "\t\t\td.append(math.sqrt((x_eq[i]-x_eq[j])**2+(y_eq[i]-y_eq[j])**2+(z_eq[i]-z_eq[j])**2))\n",
        "\n",
        "plt.hist(d)\n",
        "plt.xlabel('Bond Length')\n",
        "plt.ylabel('Count')\n",
        "\n",
        "#if the optimization was sucessful, the distribution is narrowly peaked at 1"
      ],
      "metadata": {
        "id": "BBHNJy-ntloq"
      },
      "execution_count": null,
      "outputs": []
    },
    {
      "cell_type": "markdown",
      "source": [
        "## Create the new LAMMPS input file"
      ],
      "metadata": {
        "id": "k40BnbERwYAv"
      }
    },
    {
      "cell_type": "code",
      "source": [
        "#create a contact matrix to hold the bonds and angles\n",
        "#the matrix's ij entry is 1 if the ith and jth atom are bonded, and 0 otherwise\n",
        "\n",
        "r = 1.5 #between 1 and 2 to connect all segments and account for the variation from equilibration\n",
        "\n",
        "contact_matrix=np.zeros((len(x_eq), len(x_eq)), dtype=int)\n",
        "\n",
        "for i in range(len(x_eq)):\n",
        "    for j in range(len(x_eq)):\n",
        "        if math.sqrt((x_eq[i]-x_eq[j])**2+(y_eq[i]-y_eq[j])**2+(z_eq[i]-z_eq[j])**2)<r:\n",
        "            contact_matrix[i][j]=1\n",
        "\n",
        "#calculate the total number of bonds and angles\n",
        "\n",
        "bonds=0\n",
        "\n",
        "for i in range(len(x_eq)):\n",
        "    for j in range(i):\n",
        "        if contact_matrix[i][j]==1:\n",
        "            bonds+=1\n",
        "\n",
        "angles=0\n",
        "\n",
        "for i in range(len(x_eq)):\n",
        "    for j in range(len(x_eq)):\n",
        "        if contact_matrix[i][j]==1 and j!=i:\n",
        "            for k in range(i):\n",
        "                if contact_matrix[j][k]==1 and j!=k:\n",
        "                    angles+=1"
      ],
      "metadata": {
        "id": "JNsevPO8wdAn"
      },
      "execution_count": null,
      "outputs": []
    },
    {
      "cell_type": "code",
      "source": [
        "with open('tree.txt', 'w') as f:\n",
        "  sys.stdout=f\n",
        "  f.write('LAMMPS data file for tree \\n \\n')\n",
        "  f.write(len(x), ' atoms \\n')\n",
        "  f.write(bonds, ' bonds \\n')\n",
        "  f.write(angles, ' angles \\n')\n",
        "  f.write('\\n 1 atom types \\n 1 bond types \\n 1 angle types \\n \\n -100 100 xlo xhi \\n - 100 100 ylo yhi \\n -100 100 zlo zhi \\n \\n Masses \\n 1 1 \\n \\n')\n",
        "  f.write('Atoms \\n \\n')\n",
        "\n",
        "  for i in range(len(x_eq)):\n",
        "    f.write(i+1, ' ', 1, ' ', 1, ' ', x_eq[i], ' ', y_eq[i], ' ', z_eq[i])\n",
        "\n",
        "  f.write('\\n \\n Bonds \\n \\n ')\n",
        "\n",
        "  count=0\n",
        "  for i in range(len(x_eq)):\n",
        "    for j in range(i):\n",
        "      if contact_matrix[i][j]==1:\n",
        "        count+=1\n",
        "          f.write(count, ' ', 1, ' ', i+1, ' ',   j+1)\n",
        "\n",
        "  f.write('\\n \\n Angles \\n \\n ')\n",
        "\n",
        "  count=0\n",
        "  for i in range(len(x_eq)):\n",
        "    for j in range(len(x_eq)):\n",
        "      if contact_matrix[i][j]==1 and j!=i:\n",
        "        for k in range(i):\n",
        "          if contact_matrix[j][k]==1 and j!=k:\n",
        "            count+=1\n",
        "            f.write(count, ' ', 1, ' ', i+1, ' ',   j+1, ' ', k+1)"
      ],
      "metadata": {
        "id": "bJQ3jWWBwdC4"
      },
      "execution_count": null,
      "outputs": []
    },
    {
      "cell_type": "markdown",
      "source": [
        "# Analyze Output"
      ],
      "metadata": {
        "id": "ZdqOsMFzyMcK"
      }
    },
    {
      "cell_type": "markdown",
      "source": [
        "## Mean square displacement (time)"
      ],
      "metadata": {
        "id": "PrAUP07mzKuM"
      }
    },
    {
      "cell_type": "code",
      "source": [
        "seeds=['123', '34623', '2781115']\n",
        "timesteps=100001\n",
        "\n",
        "tree_msd=np.zeros((len(seeds), timesteps))\n",
        "\n",
        "for i in range(len(seeds)):\n",
        "  with open('tree_msd_10_'+seeds[i]+'.txt') as file:\n",
        "    lines=[]\n",
        "    for line in file:\n",
        "      lines.append(line)\n",
        "\n",
        "  for j in range(timesteps):\n",
        "    tree_msd[i][j]=float(lines[j+2].split(' ')[1])"
      ],
      "metadata": {
        "id": "c5G0ENIG1guw"
      },
      "execution_count": null,
      "outputs": []
    },
    {
      "cell_type": "code",
      "source": [
        "mean_msd=np.mean(tree_msd, 0)\n",
        "sd_msd=np.std(tree_msd, 0)\n",
        "\n",
        "plt.plot(range(1, timesteps+1), tree_msd[0], label='seed = 123', color=0.8)\n",
        "plt.plot(range(1, timesteps+1), tree_msd[1], label='seed = 34623', color=0.8)\n",
        "plt.plot(range(1, timesteps+1), tree_msd[2], label='seed = 2781115', color=0.8)\n",
        "plt.errorbar(range(1, timesteps+1), mean_msd, yerr=sd_msd, fmt ='o', label='mean tree')\n",
        "plt.legend()\n",
        "plt.xlabel('Timestep')\n",
        "plt.ylabel('Mean Square Displacement (sigma)')"
      ],
      "metadata": {
        "id": "cxK1ZDJa454B"
      },
      "execution_count": null,
      "outputs": []
    },
    {
      "cell_type": "markdown",
      "source": [
        "## Mean square displacement (angle coefficient)"
      ],
      "metadata": {
        "id": "uVnVZ8Vg59jZ"
      }
    },
    {
      "cell_type": "code",
      "source": [
        "seeds=['123', '34623', '2781115']\n",
        "angle_coeffs=['0', '10', '25', '50']\n",
        "timesteps=100001\n",
        "\n",
        "tree_msd=np.zeros((len(angle_coeffs), len(seeds), timesteps))\n",
        "\n",
        "for k in range(len(angle_coeffs)):\n",
        "  for i in range(len(seeds)):\n",
        "    with open('tree_msd_'+angle_coeffs[k]+'_'+seeds[i]+'.txt') as file:\n",
        "      lines=[]\n",
        "      for line in file:\n",
        "        lines.append(line)\n",
        "\n",
        "    for j in range(timesteps):\n",
        "      tree_msd[k][i][j]=float(lines[j+2].split(' ')[1])"
      ],
      "metadata": {
        "id": "pyBi-svl6JO5"
      },
      "execution_count": 4,
      "outputs": []
    },
    {
      "cell_type": "code",
      "source": [
        "mean_msd=[]\n",
        "sd_msd=[]\n",
        "\n",
        "mean_msd=[np.mean(np.mean(tree_msd[i], 0)) for i in range(len(angle_coeffs))]\n",
        "sd_msd=[np.std(np.mean(tree_msd[i], 0)) for i in range(len(angle_coeffs))]\n",
        "\n",
        "plt.errorbar(angle_coeffs, mean_msd, yerr=sd_msd, fmt ='o')\n",
        "plt.xlabel('Angle Coefficient')\n",
        "plt.ylabel('Mean Square Displacement (sigma)')"
      ],
      "metadata": {
        "id": "czSPWEy28rpP"
      },
      "execution_count": null,
      "outputs": []
    },
    {
      "cell_type": "markdown",
      "source": [
        "## Most dynamics atoms and Maximum displacement per atom"
      ],
      "metadata": {
        "id": "FiSCChmV--a-"
      }
    },
    {
      "cell_type": "code",
      "source": [
        "seeds=['123', '34623', '2781115']\n",
        "angle_coeffs=['0', '10', '25', '50']\n",
        "timesteps=100001\n",
        "atoms=1939\n",
        "\n",
        "mean_angle=[]\n",
        "sd_angle=[]\n",
        "\n",
        "for i in range(len(angle_coeffs)):\n",
        "  temp_mean=[]\n",
        "  for j in range(len(seeds)):\n",
        "\n",
        "    x=[]\n",
        "    y=[]\n",
        "    z=[]\n",
        "\n",
        "    with open('tree_'+angle_coeffs[i]+'_'+seeds[i]+'.lammpstrj') as file:\n",
        "      lines=[]\n",
        "      for line in file:\n",
        "        lines.append(line)\n",
        "\n",
        "    count=0\n",
        "    while count<len(lines):\n",
        "      if lines[count]=='ITEM: ATOMS id x y z ix iy iz type\\n':\n",
        "        x.append([])\n",
        "        y.append([])\n",
        "        z.append([])\n",
        "        for j in range(atoms):\n",
        "          x[-1].append(float(lines[count+j+1].split(' ')[1]))\n",
        "          y[-1].append(float(lines[count+j+1].split(' ')[2]))\n",
        "          z[-1].append(float(lines[count+j+1].split(' ')[3]))\n",
        "      count+=atoms\n",
        "\n",
        "    max_displacements=[]  #store the maximum displacement (between consecutive steps) of each atom\n",
        "\n",
        "    for k in range(len(x)):\n",
        "      max_displacements.append(max([math.sqrt((x[l][k]-x[l+1][k])**2+(y[l][k]-y[l+1][k])**2+(z[l][k]-z[l+1][k])**2) for l in range(timesteps-1)]))\n",
        "\n",
        "    #color plot of each atom's maximum displacement\n",
        "    #points=plt.scatter(x[0], y[0], c=max_displacements/max(max_displacements))\n",
        "    #plt.colorbar(points)\n",
        "    #plt.xlabel('x Coordinate')\n",
        "    #plt.ylabel('y Coordinate')\n",
        "\n",
        "    #select the 20% most dynamic particles in this simulation\n",
        "\n",
        "    max_displacements.sort(reverse=True)\n",
        "    temp_mean.append(np.mean(max_displacements[0:int(0.2*atoms):1]))\n",
        "\n",
        "  mean_angles.append(np.mean(temp_mean))\n",
        "  sd_angles.append(np.std(temp_mean))"
      ],
      "metadata": {
        "id": "oGEGdfJm_VIo"
      },
      "execution_count": null,
      "outputs": []
    },
    {
      "cell_type": "code",
      "source": [
        "plt.errorbar(angle_coeffs, mean_angles, yerr=sd_angles, fmt ='o')\n",
        "plt.xlabel('Angle Coefficient')\n",
        "plt.ylabel('Maximum Displacements (sigma)')"
      ],
      "metadata": {
        "id": "gGmef4Efad2q"
      },
      "execution_count": null,
      "outputs": []
    }
  ]
}